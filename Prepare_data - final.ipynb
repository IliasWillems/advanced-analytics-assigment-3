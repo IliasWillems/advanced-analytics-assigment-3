{
 "cells": [
  {
   "cell_type": "markdown",
   "id": "2c864ef6",
   "metadata": {},
   "source": [
    "# Preparing the data\n",
    "\n",
    "In this notebook we prepare the mined data so that we can more easily fit a model on it."
   ]
  },
  {
   "cell_type": "markdown",
   "id": "462c3141",
   "metadata": {},
   "source": [
    "## 1. Data preprocessing\n",
    "\n",
    "As a first step, we will transform all of the mined data into a tabular data structure."
   ]
  },
  {
   "cell_type": "code",
   "execution_count": 1,
   "id": "693c3c21",
   "metadata": {},
   "outputs": [
    {
     "data": {
      "text/html": [
       "<div>\n",
       "<style scoped>\n",
       "    .dataframe tbody tr th:only-of-type {\n",
       "        vertical-align: middle;\n",
       "    }\n",
       "\n",
       "    .dataframe tbody tr th {\n",
       "        vertical-align: top;\n",
       "    }\n",
       "\n",
       "    .dataframe thead th {\n",
       "        text-align: right;\n",
       "    }\n",
       "</style>\n",
       "<table border=\"1\" class=\"dataframe\">\n",
       "  <thead>\n",
       "    <tr style=\"text-align: right;\">\n",
       "      <th></th>\n",
       "      <th>review_id</th>\n",
       "      <th>app_id</th>\n",
       "      <th>review_text</th>\n",
       "      <th>label</th>\n",
       "    </tr>\n",
       "  </thead>\n",
       "  <tbody>\n",
       "    <tr>\n",
       "      <th>0</th>\n",
       "      <td>136510302</td>\n",
       "      <td>2103530</td>\n",
       "      <td>I simply love it, it's a great game!</td>\n",
       "      <td>1</td>\n",
       "    </tr>\n",
       "    <tr>\n",
       "      <th>1</th>\n",
       "      <td>136509602</td>\n",
       "      <td>2349550</td>\n",
       "      <td>Gifted word: Grace</td>\n",
       "      <td>1</td>\n",
       "    </tr>\n",
       "    <tr>\n",
       "      <th>2</th>\n",
       "      <td>136510134</td>\n",
       "      <td>1685730</td>\n",
       "      <td>It's pretty good! If this was more expanded, i...</td>\n",
       "      <td>1</td>\n",
       "    </tr>\n",
       "    <tr>\n",
       "      <th>3</th>\n",
       "      <td>136510117</td>\n",
       "      <td>1685730</td>\n",
       "      <td>I recommend it, I had a great time playing the...</td>\n",
       "      <td>1</td>\n",
       "    </tr>\n",
       "    <tr>\n",
       "      <th>4</th>\n",
       "      <td>136509657</td>\n",
       "      <td>2364130</td>\n",
       "      <td>simple point and click game without much content</td>\n",
       "      <td>0</td>\n",
       "    </tr>\n",
       "    <tr>\n",
       "      <th>5</th>\n",
       "      <td>136511145</td>\n",
       "      <td>1829810</td>\n",
       "      <td>If puppet combo made this everyone would play ...</td>\n",
       "      <td>1</td>\n",
       "    </tr>\n",
       "    <tr>\n",
       "      <th>6</th>\n",
       "      <td>136511817</td>\n",
       "      <td>2102490</td>\n",
       "      <td>Nice sim game.</td>\n",
       "      <td>1</td>\n",
       "    </tr>\n",
       "    <tr>\n",
       "      <th>7</th>\n",
       "      <td>136511667</td>\n",
       "      <td>2102490</td>\n",
       "      <td>It's a fun game, and always a few surprises wi...</td>\n",
       "      <td>1</td>\n",
       "    </tr>\n",
       "    <tr>\n",
       "      <th>8</th>\n",
       "      <td>136510517</td>\n",
       "      <td>2299240</td>\n",
       "      <td>Fated word: Life, I was on the fence of which ...</td>\n",
       "      <td>1</td>\n",
       "    </tr>\n",
       "    <tr>\n",
       "      <th>9</th>\n",
       "      <td>136510715</td>\n",
       "      <td>2349550</td>\n",
       "      <td>My gifted word: Strenght\\n\\nIt was pleasure to...</td>\n",
       "      <td>1</td>\n",
       "    </tr>\n",
       "  </tbody>\n",
       "</table>\n",
       "</div>"
      ],
      "text/plain": [
       "   review_id   app_id                                        review_text label\n",
       "0  136510302  2103530               I simply love it, it's a great game!     1\n",
       "1  136509602  2349550                                 Gifted word: Grace     1\n",
       "2  136510134  1685730  It's pretty good! If this was more expanded, i...     1\n",
       "3  136510117  1685730  I recommend it, I had a great time playing the...     1\n",
       "4  136509657  2364130   simple point and click game without much content     0\n",
       "5  136511145  1829810  If puppet combo made this everyone would play ...     1\n",
       "6  136511817  2102490                                     Nice sim game.     1\n",
       "7  136511667  2102490  It's a fun game, and always a few surprises wi...     1\n",
       "8  136510517  2299240  Fated word: Life, I was on the fence of which ...     1\n",
       "9  136510715  2349550  My gifted word: Strenght\\n\\nIt was pleasure to...     1"
      ]
     },
     "execution_count": 1,
     "metadata": {},
     "output_type": "execute_result"
    }
   ],
   "source": [
    "import os\n",
    "import pandas as pd\n",
    "\n",
    "# Create empty pandas data frame\n",
    "df = pd.DataFrame(columns = ['review_id', 'app_id', 'review_text', 'label'])\n",
    "\n",
    "# Set the location of folder in which the data is stored\n",
    "data_folder = \"C:/Users/wille/spark/MyData/\"\n",
    "mined_dirs = os.listdir(data_folder)\n",
    "\n",
    "# Iterate over all mined data\n",
    "for dir in mined_dirs:\n",
    "\n",
    "    # Get files in each folder and ...\n",
    "    files = os.listdir(data_folder + dir)\n",
    "\n",
    "    # if there is a file containing mined data:\n",
    "    if \"part-00000\" in files:\n",
    "\n",
    "        # 1) Read its content\n",
    "        mined_data_pathname = data_folder + dir + '/part-00000'\n",
    "        file = open(mined_data_pathname)\n",
    "        content = file.read()\n",
    "\n",
    "        # 2) Split it into the different reviews (which are separated by an 'enter')\n",
    "        reviews = content.split('\\n')\n",
    "\n",
    "        # 3) Remove all empty reviews (artefact of the mining process)\n",
    "        reviews = [review for review in reviews if review != \"\"]\n",
    "\n",
    "        # 4) For each review\n",
    "        for review in reviews:\n",
    "\n",
    "            # 4.0) Set some useful constants to specify the lengths of the keys used to extract the desired information from each review.\n",
    "            NCHAR_REVIEW_ID_KEY = 15\n",
    "            NCHAR_APP_ID_KEY = 13\n",
    "            NCHAR_REVIEW_TEXT_KEY = 18\n",
    "\n",
    "            # 4.1) Extract review_id, app_id, review_text and label using string slicing based on the indices \n",
    "            idx_app_id = review.find(', \"app_id\": ')\n",
    "            idx_review_text = review.find(', \"review_text\": ')\n",
    "            idx_label = review.find(', \"label\": ')\n",
    "\n",
    "            review_id = review[NCHAR_REVIEW_ID_KEY:(idx_app_id - 1)]\n",
    "            app_id = review[(idx_app_id + NCHAR_APP_ID_KEY):(idx_review_text - 1)]\n",
    "            review_text = review[(idx_review_text + NCHAR_REVIEW_TEXT_KEY):(idx_label - 1)]\n",
    "            label = review[-2]\n",
    "\n",
    "            # 4.2) Store these values as a row in the data frame\n",
    "            row = {'review_id' : review_id, 'app_id' : app_id, 'review_text' : review_text, 'label' : label}\n",
    "            df.loc[len(df)] = row\n",
    "\n",
    "df.head(10)"
   ]
  },
  {
   "cell_type": "markdown",
   "id": "54bafd4a",
   "metadata": {},
   "source": [
    "All of the columns in the dataframe constructed above are of type 'string'. Since both the 'id'-columns as well as the column containing the label of the review are integers, we also store them as such. The following block of code will throw an error due to a problem in the 'app_id'-column meaning that it requires some further attention. The other two columns get converted without issue."
   ]
  },
  {
   "cell_type": "code",
   "execution_count": 2,
   "id": "97b2dd40",
   "metadata": {},
   "outputs": [
    {
     "name": "stdout",
     "output_type": "stream",
     "text": [
      "Type of 'label'-column changed succesfully.\n",
      "An error occured in the 'app_id'-column.\n",
      "Type of 'review_id'-column changed succesfully.\n"
     ]
    }
   ],
   "source": [
    "try:\n",
    "    df[\"label\"] = df[\"label\"].astype(int)\n",
    "    print(\"Type of 'label'-column changed succesfully.\")\n",
    "except:\n",
    "    print(\"An error occured in the 'label'-column.\")\n",
    "\n",
    "try:\n",
    "    df[\"app_id\"] = df[\"app_id\"].astype(int)\n",
    "    print(\"Type of 'app_id'-column changed succesfully.\")\n",
    "except:\n",
    "    print(\"An error occured in the 'app_id'-column.\")\n",
    "\n",
    "try:\n",
    "    df[\"review_id\"] = df[\"review_id\"].astype(int)\n",
    "    print(\"Type of 'review_id'-column changed succesfully.\")\n",
    "except:\n",
    "    print(\"An error occured in the 'review_id'-column.\")"
   ]
  },
  {
   "cell_type": "markdown",
   "id": "7ce64c38",
   "metadata": {},
   "source": [
    "We investigate the problem further by looking at which values cannot be converted to an integer and hence causing the `.astype()` method to throw an error."
   ]
  },
  {
   "cell_type": "code",
   "execution_count": 3,
   "id": "104c276d",
   "metadata": {
    "scrolled": true
   },
   "outputs": [
    {
     "name": "stdout",
     "output_type": "stream",
     "text": [
      "{'1798010,1798020'}\n"
     ]
    }
   ],
   "source": [
    "# Store the number of rows in the data frame.\n",
    "n = df.shape[0]\n",
    "\n",
    "# Construct an empty set in which we will store all problematic app_ids.\n",
    "error_app_ids = set()\n",
    "\n",
    "# For each row in the data frame...\n",
    "for i in range(n):\n",
    "    # Try to convert the value of 'app_id' to an integer.\n",
    "    try:\n",
    "        dummy = int(df.at[i, 'app_id'])\n",
    "    \n",
    "    # If that fails, store the app_id in question\n",
    "    except:\n",
    "        error_app_ids.add(df.at[i, 'app_id'])\n",
    "\n",
    "print(error_app_ids)"
   ]
  },
  {
   "cell_type": "markdown",
   "id": "b8fdae12",
   "metadata": {},
   "source": [
    "Only the app_id _'1798010,1798020'_ gives an error. Most likely, it corresponds to a game that has two app ids and hence we simply represent these games with the app_id _'1798010'_ (i.e. the first id). Having done so, the conversion of the 'app_id'-column to an integer type column runs without issue"
   ]
  },
  {
   "cell_type": "code",
   "execution_count": 4,
   "id": "e297556e",
   "metadata": {},
   "outputs": [
    {
     "name": "stdout",
     "output_type": "stream",
     "text": [
      "Type of 'app_id'-column changed succesfully.\n"
     ]
    }
   ],
   "source": [
    "# Change the problematic app_id\n",
    "df['app_id'] = df.apply(lambda row: '1798010' if row['app_id'] == '1798010,1798020' else row['app_id'], axis = 1)\n",
    "\n",
    "# Try to change the type of the 'app_id'-column again.\n",
    "try:\n",
    "    df[\"app_id\"] = df[\"app_id\"].astype(int)\n",
    "    print(\"Type of 'app_id'-column changed succesfully.\")\n",
    "except:\n",
    "    print(\"An error occured in the 'app_id'-column.\")"
   ]
  },
  {
   "cell_type": "markdown",
   "id": "34424760",
   "metadata": {},
   "source": [
    "## 2. Data inspection\n",
    "\n",
    "It can be good to know some basic properties of the data set and more importantly, fix any issues that might be present. To this end, we can ask the following questions:\n",
    "* Are there any duplicate reviews mined?\n",
    "* Are there missing values in the data set?\n",
    "* How many positive and negative reviews are there?\n",
    "* How many different games are there in total in the data set?\n",
    "\n",
    "We will investigate each of these different questions in the following."
   ]
  },
  {
   "cell_type": "markdown",
   "id": "4e6d7366",
   "metadata": {},
   "source": [
    "### 2.1. Are there any duplicate reviews mined?\n",
    "If so, we will delete the duplicates. Since each review comes with its own review identification number, all we have to do is to look for duplicates in the 'review_id'-column."
   ]
  },
  {
   "cell_type": "code",
   "execution_count": 7,
   "id": "9d7b8e08",
   "metadata": {},
   "outputs": [
    {
     "name": "stdout",
     "output_type": "stream",
     "text": [
      "Duplicate rows detected. The number of unique ids is 2228 whereas the total number of rows in the data frame is 2385.\n",
      "This means that there are a total of 157 duplicates.\n"
     ]
    }
   ],
   "source": [
    "import numpy as np\n",
    "\n",
    "# To look for duplicates in the 'review_id'_column:\n",
    "\n",
    "# Create a set of all the unique review_ids\n",
    "review_id_unique = set(np.unique(df['review_id'].array))\n",
    "\n",
    "# Check to see if there are duplicate rows\n",
    "if len(review_id_unique) != n:\n",
    "    print(\"Duplicate rows detected. The number of unique ids is \" + str(len(review_id_unique)) + \\\n",
    "          \" whereas the total number of rows in the data frame is \" + str(n) + \".\")\n",
    "    print(\"This means that there are a total of \" + str(n - len(review_id_unique)) + \" duplicates.\")\n",
    "else:\n",
    "    print(\"No duplicate rows detected.\")"
   ]
  },
  {
   "cell_type": "code",
   "execution_count": 8,
   "id": "8814b1bd",
   "metadata": {},
   "outputs": [
    {
     "name": "stdout",
     "output_type": "stream",
     "text": [
      "Number of indices to remove: 157\n"
     ]
    }
   ],
   "source": [
    "row_idx_to_remove = []\n",
    "\n",
    "# Iterate over all the rows in the data frame and for each...\n",
    "for i in range(n):\n",
    "    \n",
    "    # 1) get the review id\n",
    "    review_id = df.at[i, 'review_id']\n",
    "    \n",
    "    # 2) check if this review id was not yet seen in the data frame in previous rows. To that end, first check if the\n",
    "    #    set of not-yet-seen review ids is empty. If that is the case, we know that we have seen all review ids and hence\n",
    "    #    the current review id is a duplicate.\n",
    "    if review_id_unique == None:\n",
    "        row_idx_to_remove += [i]\n",
    "    \n",
    "    # 2.1) If there are still unseen review ids left, check if the current review id is unseen\n",
    "    else:\n",
    "        review_not_yet_seen = review_id in review_id_unique\n",
    "    \n",
    "        # 3.1) if it was not yet seen...\n",
    "        if review_not_yet_seen:\n",
    "            # remove it from the net-yet-seen-reviews set.\n",
    "            review_id_unique.remove(review_id)\n",
    "\n",
    "        # 3.2) if it was already seen...\n",
    "        else:\n",
    "            # Store index of row to be removed\n",
    "            row_idx_to_remove += [i]\n",
    "\n",
    "# We can check that the number of indices to remove matches the number of duplicate rows detected.\n",
    "print(\"Number of indices to remove: \" + str(len(row_idx_to_remove)))"
   ]
  },
  {
   "cell_type": "code",
   "execution_count": 10,
   "id": "cb48960d",
   "metadata": {},
   "outputs": [
    {
     "name": "stdout",
     "output_type": "stream",
     "text": [
      "There are now 2228 unique reviews in the data set.\n"
     ]
    }
   ],
   "source": [
    "# Finally, we can remove the duplicate rows\n",
    "df.drop(index = row_idx_to_remove, inplace = True)\n",
    "\n",
    "# We check that all of the duplicates have been removed, as we intended.\n",
    "review_id_unique = set(np.unique(df['review_id'].array))\n",
    "print(\"There are now \" + str(len(review_id_unique)) + \" unique reviews in the data set.\")\n",
    "\n",
    "# Also, recompute the number of rows in the data set\n",
    "n = df.shape[0]"
   ]
  },
  {
   "cell_type": "markdown",
   "id": "a110d0a7",
   "metadata": {},
   "source": [
    "We can now be sure that all reviews in the current data set are unique."
   ]
  },
  {
   "cell_type": "markdown",
   "id": "2b3d9aea",
   "metadata": {},
   "source": [
    "### 2.2. Are there missing values in the data set?\n",
    "If so, proper action needs to be taken."
   ]
  },
  {
   "cell_type": "code",
   "execution_count": 27,
   "id": "99b6ca17",
   "metadata": {},
   "outputs": [
    {
     "data": {
      "text/html": [
       "<div>\n",
       "<style scoped>\n",
       "    .dataframe tbody tr th:only-of-type {\n",
       "        vertical-align: middle;\n",
       "    }\n",
       "\n",
       "    .dataframe tbody tr th {\n",
       "        vertical-align: top;\n",
       "    }\n",
       "\n",
       "    .dataframe thead th {\n",
       "        text-align: right;\n",
       "    }\n",
       "</style>\n",
       "<table border=\"1\" class=\"dataframe\">\n",
       "  <thead>\n",
       "    <tr style=\"text-align: right;\">\n",
       "      <th></th>\n",
       "      <th>review_id</th>\n",
       "      <th>app_id</th>\n",
       "      <th>review_text</th>\n",
       "      <th>label</th>\n",
       "    </tr>\n",
       "  </thead>\n",
       "  <tbody>\n",
       "  </tbody>\n",
       "</table>\n",
       "</div>"
      ],
      "text/plain": [
       "Empty DataFrame\n",
       "Columns: [review_id, app_id, review_text, label]\n",
       "Index: []"
      ]
     },
     "execution_count": 27,
     "metadata": {},
     "output_type": "execute_result"
    }
   ],
   "source": [
    "rows_with_missings = df.isnull().any(axis = 1)\n",
    "df[rows_with_missings]"
   ]
  },
  {
   "cell_type": "markdown",
   "id": "120706fa",
   "metadata": {},
   "source": [
    "Conveniently, there are no missing values."
   ]
  },
  {
   "cell_type": "markdown",
   "id": "1b424fd4",
   "metadata": {},
   "source": [
    "### 2.3. How many positive and negative reviews are there?\n",
    "It was mentioned in class that we should have at least 100 of each. Moreover, it could be useful to know if we are dealing with inballanced data and if so, how inballanced the data really is."
   ]
  },
  {
   "cell_type": "code",
   "execution_count": 36,
   "id": "f01b67c0",
   "metadata": {},
   "outputs": [
    {
     "name": "stdout",
     "output_type": "stream",
     "text": [
      "Total number of positive reviews is 1897. This is 85.14% of the data set.\n",
      "Total number of negative reviews is 331. This is 14.86% of the data set.\n"
     ]
    }
   ],
   "source": [
    "tot_pos = sum(df['label'])\n",
    "tot_neg = sum(1 - df['label'])\n",
    "\n",
    "print(\"Total number of positive reviews is \" + str(tot_pos) + \". This is \" + str(np.round(100*tot_pos/n, 2)) + \"% of the data set.\")\n",
    "print(\"Total number of negative reviews is \" + str(tot_neg) + \". This is \" + str(np.round(100*tot_neg/n, 2)) + \"% of the data set.\")"
   ]
  },
  {
   "cell_type": "markdown",
   "id": "36d96ebc",
   "metadata": {},
   "source": [
    "Hence we see that there is quite some inballance in the data set. Depending on the focus of the prediction (accuracy, high precision, high recall, etc...) a proper loss function should be selected."
   ]
  },
  {
   "cell_type": "markdown",
   "id": "e631d6c4",
   "metadata": {},
   "source": [
    "### How many different games are there in the data set?\n",
    "Maybe there are games in the data set that are really good and hence get a lot of positive reviews or, similarly, there are games that are bad and get a lot of negative reviews. It could be useful information to know since there might be some specific words related to each of these games (in a medieval game, the word 'castle' might be frequently used in its reviews) that the future model might then learn to be indicators of positive/negative reviews.\n",
    "\n",
    "Perhaps we want the model to learn this, perhaps not. But at the very least being aware that it could be an issue is already valuable. "
   ]
  },
  {
   "cell_type": "code",
   "execution_count": 39,
   "id": "331c730e",
   "metadata": {},
   "outputs": [
    {
     "name": "stdout",
     "output_type": "stream",
     "text": [
      "There are 204 different games in the data set.\n"
     ]
    }
   ],
   "source": [
    "# Create a set of all the unique app_ids\n",
    "app_id_unique = set(np.unique(df['app_id'].array))\n",
    "\n",
    "# Compute how many different games there are\n",
    "print(\"There are \" + str(len(app_id_unique)) + \" different games in the data set.\")"
   ]
  },
  {
   "cell_type": "code",
   "execution_count": 47,
   "id": "8e8f31a9",
   "metadata": {},
   "outputs": [],
   "source": [
    "# To investigate if there are games that are generally regarded as very good/bad, we look at the proportion of positive to\n",
    "# negative reviews for each.\n",
    "\n",
    "# Define a value at which the proportions will be capped\n",
    "PROPORTION_CAP = 10\n",
    "\n",
    "# Initialise an array that will store all proportions\n",
    "proportion_positive_negative = []\n",
    "\n",
    "# For each game...\n",
    "for game in app_id_unique:\n",
    "    \n",
    "    # Get the subset of the data frame pertaining to the game in question\n",
    "    game_df = df.loc[df['app_id'] == game]\n",
    "    \n",
    "    # Compute the proportion of positive to negative reviews (we add a small number to the denominator to prevent devision\n",
    "    # by zero problems).\n",
    "    prop = np.min([sum(game_df['label'])/(sum(1 - game_df['label']) + 10**(-10)), PROPORTION_CAP])\n",
    "    \n",
    "    # Store it\n",
    "    proportion_positive_negative += [prop]"
   ]
  },
  {
   "cell_type": "code",
   "execution_count": 76,
   "id": "126eb37c",
   "metadata": {},
   "outputs": [
    {
     "data": {
      "image/png": "[encoded data removed]",
      "text/plain": [
       "<Figure size 432x288 with 1 Axes>"
      ]
     },
     "metadata": {
      "needs_background": "light"
     },
     "output_type": "display_data"
    }
   ],
   "source": [
    "from matplotlib import pyplot as plt \n",
    "\n",
    "plt.hist(proportion_positive_negative, bins = 'auto')\n",
    "plt.xlabel(\"proportion of positive to negative reviews\")\n",
    "plt.ylabel(\"frequency\")\n",
    "plt.show()"
   ]
  },
  {
   "cell_type": "markdown",
   "id": "16dccbab",
   "metadata": {},
   "source": [
    "The plot can be seen to show a slight U-shape: the frequencies of games with predominantly positive or negative reviews is elevated. This effect is especially pronounced for the games with a lot of positive reviews, which is logical since there are a lot more positive reviews in the data set.\n",
    "\n",
    "As already mentioned before, this could require some care when making the model. For example, suppose that a lot of games that have a high positive to negative ratio are Super Mario games. It would then seem reasonable that the model might associate the word _Mario_ with a high score. However, if a next Super Mario game turns out to be very bad, our model will have trouble with predicting the labels of the (very likely negative) reviews for this game. Likewise, if the main character of another unrelated game is also named _Mario_, it might get confused.\n",
    "\n",
    "Therefore if possible, we will try to also include some model interpretability into our analysis and investigate which words the model pays a lot of attention to when making its predictions."
   ]
  },
  {
   "cell_type": "markdown",
   "id": "0b1684db",
   "metadata": {},
   "source": [
    "## 3. Save data frame for further analysis\n",
    "All that's left to do is to save the preprocessed data, to be used in the next notebook."
   ]
  },
  {
   "cell_type": "code",
   "execution_count": 79,
   "id": "282d5fd2",
   "metadata": {},
   "outputs": [],
   "source": [
    "df.to_csv(\"data/review_data.csv\", index = False)"
   ]
  }
 ],
 "metadata": {
  "kernelspec": {
   "display_name": "Python 3",
   "language": "python",
   "name": "python3"
  },
  "language_info": {
   "codemirror_mode": {
    "name": "ipython",
    "version": 3
   },
   "file_extension": ".py",
   "mimetype": "text/x-python",
   "name": "python",
   "nbconvert_exporter": "python",
   "pygments_lexer": "ipython3",
   "version": "3.8.8"
  },
  "varInspector": {
   "cols": {
    "lenName": 16,
    "lenType": 16,
    "lenVar": 40
   },
   "kernels_config": {
    "python": {
     "delete_cmd_postfix": "",
     "delete_cmd_prefix": "del ",
     "library": "var_list.py",
     "varRefreshCmd": "print(var_dic_list())"
    },
    "r": {
     "delete_cmd_postfix": ") ",
     "delete_cmd_prefix": "rm(",
     "library": "var_list.r",
     "varRefreshCmd": "cat(var_dic_list()) "
    }
   },
   "types_to_exclude": [
    "module",
    "function",
    "builtin_function_or_method",
    "instance",
    "_Feature"
   ],
   "window_display": false
  }
 },
 "nbformat": 4,
 "nbformat_minor": 5
}
