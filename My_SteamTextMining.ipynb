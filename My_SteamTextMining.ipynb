{
 "cells": [
  {
   "cell_type": "code",
   "execution_count": 1,
   "id": "99bfff6e",
   "metadata": {},
   "outputs": [],
   "source": [
    "import threading\n",
    "\n",
    "# Helper thread to avoid the Spark StreamingContext from blocking Jupyter\n",
    "        \n",
    "class StreamingThread(threading.Thread):\n",
    "    def __init__(self, ssc):\n",
    "        super().__init__()\n",
    "        self.ssc = ssc\n",
    "    def run(self):\n",
    "        self.ssc.start()\n",
    "        self.ssc.awaitTermination()\n",
    "    def stop(self):\n",
    "        print('----- Stopping... this may take a few seconds -----')\n",
    "        self.ssc.stop(stopSparkContext=False, stopGraceFully=True)"
   ]
  },
  {
   "cell_type": "code",
   "execution_count": 2,
   "id": "2dfd1325",
   "metadata": {},
   "outputs": [
    {
     "data": {
      "text/html": [
       "\n",
       "        <div>\n",
       "            <p><b>SparkContext</b></p>\n",
       "\n",
       "            <p><a href=\"http://LAPTOP-EIR3K1EH.home:4040\">Spark UI</a></p>\n",
       "\n",
       "            <dl>\n",
       "              <dt>Version</dt>\n",
       "                <dd><code>v3.3.2</code></dd>\n",
       "              <dt>Master</dt>\n",
       "                <dd><code>local[*]</code></dd>\n",
       "              <dt>AppName</dt>\n",
       "                <dd><code>PySparkShell</code></dd>\n",
       "            </dl>\n",
       "        </div>\n",
       "        "
      ],
      "text/plain": [
       "<SparkContext master=local[*] appName=PySparkShell>"
      ]
     },
     "execution_count": 2,
     "metadata": {},
     "output_type": "execute_result"
    }
   ],
   "source": [
    "sc"
   ]
  },
  {
   "cell_type": "code",
   "execution_count": 3,
   "id": "a64651b7",
   "metadata": {},
   "outputs": [],
   "source": [
    "from pyspark.streaming import StreamingContext"
   ]
  },
  {
   "cell_type": "code",
   "execution_count": 4,
   "id": "8ae834cf",
   "metadata": {},
   "outputs": [],
   "source": [
    "# Time interval in seconds\n",
    "HOUR = 60*60\n",
    "STANDARD = 10\n",
    "\n",
    "ssc = StreamingContext(sc, STANDARD)"
   ]
  },
  {
   "cell_type": "code",
   "execution_count": 5,
   "id": "0b6a03e0",
   "metadata": {},
   "outputs": [],
   "source": [
    "lines = ssc.socketTextStream(\"seppe.net\", 7778)\n",
    "lines.pprint()"
   ]
  },
  {
   "cell_type": "code",
   "execution_count": 6,
   "id": "73d493b0",
   "metadata": {},
   "outputs": [],
   "source": [
    "# Change the path below to match yours\n",
    "lines.repartition(1).saveAsTextFiles(\"file:///C:/Users/wille/spark/MyData/\")"
   ]
  },
  {
   "cell_type": "code",
   "execution_count": 7,
   "id": "8105dd32",
   "metadata": {},
   "outputs": [],
   "source": [
    "ssc_t = StreamingThread(ssc)\n",
    "ssc_t.start()"
   ]
  },
  {
   "cell_type": "code",
   "execution_count": null,
   "id": "88bb261d",
   "metadata": {},
   "outputs": [],
   "source": [
    "# Don't run this cell unless you want to stop\n",
    "ssc_t.stop()"
   ]
  },
  {
   "cell_type": "code",
   "execution_count": null,
   "id": "9b4d5d34",
   "metadata": {},
   "outputs": [],
   "source": [
    "# Remove all empty files (run this code every so often).\n",
    "\n",
    "import os\n",
    "import shutil\n",
    "\n",
    "data_folder = \"C:/Users/wille/spark/MyData/\"\n",
    "mined_dirs = os.listdir(data_folder)\n",
    "for dir in mined_dirs:\n",
    "    files = os.listdir(data_folder + dir)\n",
    "    if 'part-00000' in files:\n",
    "        mined_data_pathname = data_folder + dir + '/part-00000'\n",
    "        file = open(mined_data_pathname, \"r\")\n",
    "        content = file.read()\n",
    "        file.close()\n",
    "        if len(content) == 0:\n",
    "            for filename in os.listdir(data_folder + dir):\n",
    "                try:\n",
    "                    os.remove(data_folder + dir + '/' + filename)\n",
    "                except:\n",
    "                    print(\"an exception occured\")\n",
    "    if len(os.listdir(data_folder + dir)) == 0:\n",
    "        os.rmdir(data_folder + dir)"
   ]
  },
  {
   "cell_type": "code",
   "execution_count": null,
   "id": "08fdb094",
   "metadata": {},
   "outputs": [],
   "source": []
  }
 ],
 "metadata": {
  "kernelspec": {
   "display_name": "Python 3 (ipykernel)",
   "language": "python",
   "name": "python3"
  },
  "language_info": {
   "codemirror_mode": {
    "name": "ipython",
    "version": 3
   },
   "file_extension": ".py",
   "mimetype": "text/x-python",
   "name": "python",
   "nbconvert_exporter": "python",
   "pygments_lexer": "ipython3",
   "version": "3.9.7"
  },
  "varInspector": {
   "cols": {
    "lenName": 16,
    "lenType": 16,
    "lenVar": 40
   },
   "kernels_config": {
    "python": {
     "delete_cmd_postfix": "",
     "delete_cmd_prefix": "del ",
     "library": "var_list.py",
     "varRefreshCmd": "print(var_dic_list())"
    },
    "r": {
     "delete_cmd_postfix": ") ",
     "delete_cmd_prefix": "rm(",
     "library": "var_list.r",
     "varRefreshCmd": "cat(var_dic_list()) "
    }
   },
   "types_to_exclude": [
    "module",
    "function",
    "builtin_function_or_method",
    "instance",
    "_Feature"
   ],
   "window_display": false
  }
 },
 "nbformat": 4,
 "nbformat_minor": 5
}
